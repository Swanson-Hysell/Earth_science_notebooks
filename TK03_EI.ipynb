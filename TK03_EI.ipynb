{
 "cells": [
  {
   "cell_type": "code",
   "execution_count": 1,
   "metadata": {
    "collapsed": true
   },
   "outputs": [],
   "source": [
    "def elong_calc(DIblock):\n",
    "    #convert to cartesian\n",
    "    DI_cart = pmag.dir2cart(DIblock)\n",
    "    #create T matrix\n",
    "    #Could use the function from pmag: pmag.Tmatrix(Umk_cart_cart),...\n",
    "    #...however I don't know what the input should be, so did manually...\n",
    "    #...according to Tanaka (1999)\n",
    "    T_matrix = [[0.,0.,0.],[0.,0.,0.],[0.,0.,0.]]\n",
    "    T_matrix[0][0] = np.sum((DI_cart[:,0]**2))\n",
    "    T_matrix[0][1] = np.sum((DI_cart[:,0]*DI_cart[:,1]))\n",
    "    T_matrix[1][0] = np.sum((DI_cart[:,0]*DI_cart[:,1]))\n",
    "    T_matrix[1][1] = np.sum((DI_cart[:,1]**2))\n",
    "    T_matrix[0][2] = np.sum((DI_cart[:,0]*DI_cart[:,2]))\n",
    "    T_matrix[2][0] = np.sum((DI_cart[:,0]*DI_cart[:,2]))\n",
    "    T_matrix[1][2] = np.sum((DI_cart[:,1]*DI_cart[:,2]))\n",
    "    T_matrix[2][1] = np.sum((DI_cart[:,1]*DI_cart[:,2]))\n",
    "    T_matrix[2][2] = np.sum((DI_cart[:,2]**2))\n",
    "    #calculate eigenvalues and eigenvectors for the T matrix\n",
    "    eigvalues = pmag.tauV(T_matrix)\n",
    "    t1 = eigvalues[0][0]\n",
    "    t2 = eigvalues[0][1]\n",
    "    t3 = eigvalues[0][2]\n",
    "    elong = t2/t3\n",
    "    return elong"
   ]
  },
  {
   "cell_type": "code",
   "execution_count": 2,
   "metadata": {
    "collapsed": false
   },
   "outputs": [],
   "source": [
    "import sys\n",
    "#change to match where the PmagPy folder is on your computer\n",
    "sys.path.insert(0, '/Users/Laurentia/PmagPy')\n",
    "import pmag,pmagplotlib,ipmag # import PmagPy functions\n",
    "\n",
    "import pmag\n",
    "import random\n",
    "import numpy as np\n",
    "import matplotlib.pyplot as plt\n",
    "%matplotlib inline"
   ]
  },
  {
   "cell_type": "code",
   "execution_count": 3,
   "metadata": {
    "collapsed": true
   },
   "outputs": [],
   "source": [
    "def tk03(n=100,dec=0,lat=0,rev='no',G2=0,G3=0):\n",
    "    \"\"\"\n",
    "    generates set of vectors drawn from the TK03.gad model of \n",
    "    secular variation (Tauxe and Kent, 2004) at given latitude and rotated \n",
    "    about a vertical axis by the given declination \n",
    "\n",
    "    Arguments\n",
    "    ----------\n",
    "    n number of vectors to determine (default is 100)\n",
    "    dec mean declination of data set (default is 0)\n",
    "    lat latitude at which secular variation is simulated (default is 0)\n",
    "    rev if reversals are to be included this should be 'yes' (default is 'no')\n",
    "    G2 specify average g_2^0 fraction (default is 0)\n",
    "    G3 specify average g_3^0 fraction (default is 0)\n",
    "    \"\"\"\n",
    "    tk_03_output=[]\n",
    "    for k in range(n): \n",
    "        gh=pmag.mktk03(8,k,G2,G3) # terms and random seed\n",
    "        long=random.randint(0,360) # get a random longitude, between 0 and 359\n",
    "        vec= pmag.getvec(gh,lat,long)  # send field model and lat to getvec\n",
    "        vec[0]+=dec\n",
    "        if vec[0]>=360.:\n",
    "            vec[0]-=360.\n",
    "        if k%2==0 and rev=='yes':\n",
    "           vec[0]+=180.\n",
    "           vec[1]=-vec[1]\n",
    "        tk_03_output.append([vec[0],vec[1],vec[2]])    \n",
    "    return tk_03_output"
   ]
  },
  {
   "cell_type": "code",
   "execution_count": 4,
   "metadata": {
    "collapsed": false
   },
   "outputs": [],
   "source": [
    "elongation_GAD = []\n",
    "inclination_GAD = []\n",
    "for latitude in range(0,90,2):\n",
    "    data = tk03(200000,dec=0,lat=latitude,G3=0)\n",
    "    elong = elong_calc(data)\n",
    "    rad=np.pi/180.\n",
    "    inc=np.arctan(2*np.tan(latitude*rad))/rad\n",
    "    elongation_GAD.append(elong) \n",
    "    inclination_GAD.append(inc)"
   ]
  },
  {
   "cell_type": "code",
   "execution_count": 5,
   "metadata": {
    "collapsed": false
   },
   "outputs": [
    {
     "name": "stdout",
     "output_type": "stream",
     "text": [
      "[3.5917556021947274, 3.5598855455173211, 3.47796584202819, 3.312227852345262, 3.125852220464985, 2.9487105354741199, 2.7514627660287698, 2.5408549442858717, 2.3672996389398535, 2.2188212241926601, 2.074524645246405, 1.9399456056813706, 1.8242591721439521, 1.7360133435228886, 1.6549501230077459, 1.5676452232744911, 1.5199035917414927, 1.4633277971703103, 1.4023097623033105, 1.3564761909936012, 1.329623485171513, 1.2921875113736876, 1.2576961287246464, 1.232492673540621, 1.1988494859159593, 1.1826423939617021, 1.1520065380722191, 1.1426256175831768, 1.112452028599948, 1.1040544891937494, 1.0994918967960103, 1.0860387905013074, 1.0666084524234871, 1.0490962955826275, 1.0475399589674683, 1.0399808976935767, 1.0291679570631098, 1.0296165771965804, 1.0161871797138653, 1.0201302544011899, 1.0111447550285042, 1.0108342665506831, 1.0018360717501424, 1.0117894298465824, 1.0045891967328076]\n"
     ]
    }
   ],
   "source": [
    "print elongation_GAD"
   ]
  },
  {
   "cell_type": "code",
   "execution_count": 6,
   "metadata": {
    "collapsed": false
   },
   "outputs": [
    {
     "data": {
      "text/plain": [
       "[<matplotlib.lines.Line2D at 0x117018e50>]"
      ]
     },
     "execution_count": 6,
     "metadata": {},
     "output_type": "execute_result"
    },
    {
     "data": {
      "image/png": "[encoded data removed]",
      "text/plain": [
       "<matplotlib.figure.Figure at 0x11137aa90>"
      ]
     },
     "metadata": {},
     "output_type": "display_data"
    }
   ],
   "source": [
    "plt.plot(inclination_GAD,elongation_GAD,'k.-')"
   ]
  },
  {
   "cell_type": "code",
   "execution_count": 9,
   "metadata": {
    "collapsed": true
   },
   "outputs": [],
   "source": [
    "elongation_G3_20 = []\n",
    "inclination_G3_20 = []\n",
    "for latitude in range(0,90,2):\n",
    "    data = tk03(200000,dec=0,lat=latitude,G3=20)\n",
    "    elong = elong_calc(data)\n",
    "    rad=np.pi/180.\n",
    "    inc=np.arctan(2*np.tan(latitude*rad))/rad\n",
    "    elongation_G3_20.append(elong) \n",
    "    inclination_G3_20.append(inc)"
   ]
  },
  {
   "cell_type": "code",
   "execution_count": 10,
   "metadata": {
    "collapsed": false
   },
   "outputs": [
    {
     "data": {
      "text/plain": [
       "[<matplotlib.lines.Line2D at 0x114d69610>]"
      ]
     },
     "execution_count": 10,
     "metadata": {},
     "output_type": "execute_result"
    },
    {
     "data": {
      "image/png": "[encoded data removed]",
      "text/plain": [
       "<matplotlib.figure.Figure at 0x1175ae9d0>"
      ]
     },
     "metadata": {},
     "output_type": "display_data"
    }
   ],
   "source": [
    "plt.plot(inclination_G3_20,elongation_G3_20,'k.-')"
   ]
  },
  {
   "cell_type": "code",
   "execution_count": 15,
   "metadata": {
    "collapsed": true
   },
   "outputs": [],
   "source": [
    "elongation_G2_10 = []\n",
    "inclination_G2_10 = []\n",
    "for latitude in range(0,90,2):\n",
    "    data = tk03(2000,dec=0,lat=latitude,G2=10)\n",
    "    elong = elong_calc(data)\n",
    "    rad=np.pi/180.\n",
    "    inc=np.arctan(2*np.tan(latitude*rad))/rad\n",
    "    elongation_G2_10.append(elong) \n",
    "    inclination_G2_10.append(inc)"
   ]
  },
  {
   "cell_type": "code",
   "execution_count": 16,
   "metadata": {
    "collapsed": false
   },
   "outputs": [
    {
     "data": {
      "text/plain": [
       "[<matplotlib.lines.Line2D at 0x1157f2290>]"
      ]
     },
     "execution_count": 16,
     "metadata": {},
     "output_type": "execute_result"
    },
    {
     "data": {
      "image/png": "[encoded data removed]",
      "text/plain": [
       "<matplotlib.figure.Figure at 0x116d68450>"
      ]
     },
     "metadata": {},
     "output_type": "display_data"
    }
   ],
   "source": [
    "plt.plot(inclination_G2_10,elongation_G2_10,'k.-')"
   ]
  },
  {
   "cell_type": "code",
   "execution_count": null,
   "metadata": {
    "collapsed": true
   },
   "outputs": [],
   "source": []
  }
 ],
 "metadata": {
  "kernelspec": {
   "display_name": "Python 2",
   "language": "python",
   "name": "python2"
  },
  "language_info": {
   "codemirror_mode": {
    "name": "ipython",
    "version": 2
   },
   "file_extension": ".py",
   "mimetype": "text/x-python",
   "name": "python",
   "nbconvert_exporter": "python",
   "pygments_lexer": "ipython2",
   "version": "2.7.9"
  }
 },
 "nbformat": 4,
 "nbformat_minor": 0
}
