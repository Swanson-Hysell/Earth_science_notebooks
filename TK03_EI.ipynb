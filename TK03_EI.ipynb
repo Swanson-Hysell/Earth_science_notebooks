{
 "cells": [
  {
   "cell_type": "code",
   "execution_count": 2,
   "metadata": {
    "collapsed": true
   },
   "outputs": [],
   "source": [
    "def elong_calc(DIblock):\n",
    "    #convert to cartesian\n",
    "    DI_cart = pmag.dir2cart(DIblock)\n",
    "    #create T matrix\n",
    "    #Could use the function from pmag: pmag.Tmatrix(Umk_cart_cart),...\n",
    "    #...however I don't know what the input should be, so did manually...\n",
    "    #...according to Tanaka (1999)\n",
    "    T_matrix = [[0.,0.,0.],[0.,0.,0.],[0.,0.,0.]]\n",
    "    T_matrix[0][0] = np.sum((DI_cart[:,0]**2))\n",
    "    T_matrix[0][1] = np.sum((DI_cart[:,0]*DI_cart[:,1]))\n",
    "    T_matrix[1][0] = np.sum((DI_cart[:,0]*DI_cart[:,1]))\n",
    "    T_matrix[1][1] = np.sum((DI_cart[:,1]**2))\n",
    "    T_matrix[0][2] = np.sum((DI_cart[:,0]*DI_cart[:,2]))\n",
    "    T_matrix[2][0] = np.sum((DI_cart[:,0]*DI_cart[:,2]))\n",
    "    T_matrix[1][2] = np.sum((DI_cart[:,1]*DI_cart[:,2]))\n",
    "    T_matrix[2][1] = np.sum((DI_cart[:,1]*DI_cart[:,2]))\n",
    "    T_matrix[2][2] = np.sum((DI_cart[:,2]**2))\n",
    "    #calculate eigenvalues and eigenvectors for the T matrix\n",
    "    eigvalues = pmag.tauV(T_matrix)\n",
    "    t1 = eigvalues[0][0]\n",
    "    t2 = eigvalues[0][1]\n",
    "    t3 = eigvalues[0][2]\n",
    "    elong = t2/t3\n",
    "    return elong"
   ]
  },
  {
   "cell_type": "code",
   "execution_count": 3,
   "metadata": {
    "collapsed": false
   },
   "outputs": [],
   "source": [
    "import sys\n",
    "#change to match where the PmagPy folder is on your computer\n",
    "sys.path.insert(0, '/Users/Laurentia/PmagPy')\n",
    "import pmag,pmagplotlib,ipmag # import PmagPy functions\n",
    "\n",
    "import pmag\n",
    "import random\n",
    "import numpy as np\n",
    "import matplotlib.pyplot as plt\n",
    "%matplotlib inline"
   ]
  },
  {
   "cell_type": "code",
   "execution_count": 4,
   "metadata": {
    "collapsed": true
   },
   "outputs": [],
   "source": [
    "def tk03(n=100,dec=0,lat=0,rev='no',G2=0,G3=0):\n",
    "    \"\"\"\n",
    "    generates set of vectors drawn from the TK03.gad model of \n",
    "    secular variation (Tauxe and Kent, 2004) at given latitude and rotated \n",
    "    about a vertical axis by the given declination \n",
    "\n",
    "    Arguments\n",
    "    ----------\n",
    "    n number of vectors to determine (default is 100)\n",
    "    dec mean declination of data set (default is 0)\n",
    "    lat latitude at which secular variation is simulated (default is 0)\n",
    "    rev if reversals are to be included this should be 'yes' (default is 'no')\n",
    "    G2 specify average g_2^0 fraction (default is 0)\n",
    "    G3 specify average g_3^0 fraction (default is 0)\n",
    "    \"\"\"\n",
    "    tk_03_output=[]\n",
    "    for k in range(n): \n",
    "        gh=pmag.mktk03(8,k,G2,G3) # terms and random seed\n",
    "        long=random.randint(0,360) # get a random longitude, between 0 and 359\n",
    "        vec= pmag.getvec(gh,lat,long)  # send field model and lat to getvec\n",
    "        vec[0]+=dec\n",
    "        if vec[0]>=360.:\n",
    "            vec[0]-=360.\n",
    "        if k%2==0 and rev=='yes':\n",
    "           vec[0]+=180.\n",
    "           vec[1]=-vec[1]\n",
    "        tk_03_output.append([vec[0],vec[1],vec[2]])    \n",
    "    return tk_03_output"
   ]
  },
  {
   "cell_type": "code",
   "execution_count": 5,
   "metadata": {
    "collapsed": false
   },
   "outputs": [
    {
     "ename": "KeyboardInterrupt",
     "evalue": "",
     "output_type": "error",
     "traceback": [
      "\u001b[0;31m---------------------------------------------------------------------------\u001b[0m",
      "\u001b[0;31mKeyboardInterrupt\u001b[0m                         Traceback (most recent call last)",
      "\u001b[0;32m<ipython-input-5-9a784b772240>\u001b[0m in \u001b[0;36m<module>\u001b[0;34m()\u001b[0m\n\u001b[1;32m      2\u001b[0m \u001b[0minclination_GAD\u001b[0m \u001b[0;34m=\u001b[0m \u001b[0;34m[\u001b[0m\u001b[0;34m]\u001b[0m\u001b[0;34m\u001b[0m\u001b[0m\n\u001b[1;32m      3\u001b[0m \u001b[0;32mfor\u001b[0m \u001b[0mlatitude\u001b[0m \u001b[0;32min\u001b[0m \u001b[0mrange\u001b[0m\u001b[0;34m(\u001b[0m\u001b[0;36m0\u001b[0m\u001b[0;34m,\u001b[0m\u001b[0;36m90\u001b[0m\u001b[0;34m,\u001b[0m\u001b[0;36m2\u001b[0m\u001b[0;34m)\u001b[0m\u001b[0;34m:\u001b[0m\u001b[0;34m\u001b[0m\u001b[0m\n\u001b[0;32m----> 4\u001b[0;31m     \u001b[0mdata\u001b[0m \u001b[0;34m=\u001b[0m \u001b[0mtk03\u001b[0m\u001b[0;34m(\u001b[0m\u001b[0;36m200000\u001b[0m\u001b[0;34m,\u001b[0m\u001b[0mdec\u001b[0m\u001b[0;34m=\u001b[0m\u001b[0;36m0\u001b[0m\u001b[0;34m,\u001b[0m\u001b[0mlat\u001b[0m\u001b[0;34m=\u001b[0m\u001b[0mlatitude\u001b[0m\u001b[0;34m,\u001b[0m\u001b[0mG3\u001b[0m\u001b[0;34m=\u001b[0m\u001b[0;36m0\u001b[0m\u001b[0;34m)\u001b[0m\u001b[0;34m\u001b[0m\u001b[0m\n\u001b[0m\u001b[1;32m      5\u001b[0m     \u001b[0melong\u001b[0m \u001b[0;34m=\u001b[0m \u001b[0melong_calc\u001b[0m\u001b[0;34m(\u001b[0m\u001b[0mdata\u001b[0m\u001b[0;34m)\u001b[0m\u001b[0;34m\u001b[0m\u001b[0m\n\u001b[1;32m      6\u001b[0m     \u001b[0mrad\u001b[0m\u001b[0;34m=\u001b[0m\u001b[0mnp\u001b[0m\u001b[0;34m.\u001b[0m\u001b[0mpi\u001b[0m\u001b[0;34m/\u001b[0m\u001b[0;36m180.\u001b[0m\u001b[0;34m\u001b[0m\u001b[0m\n",
      "\u001b[0;32m<ipython-input-4-a4d2163a2ea7>\u001b[0m in \u001b[0;36mtk03\u001b[0;34m(n, dec, lat, rev, G2, G3)\u001b[0m\n\u001b[1;32m     16\u001b[0m     \u001b[0mtk_03_output\u001b[0m\u001b[0;34m=\u001b[0m\u001b[0;34m[\u001b[0m\u001b[0;34m]\u001b[0m\u001b[0;34m\u001b[0m\u001b[0m\n\u001b[1;32m     17\u001b[0m     \u001b[0;32mfor\u001b[0m \u001b[0mk\u001b[0m \u001b[0;32min\u001b[0m \u001b[0mrange\u001b[0m\u001b[0;34m(\u001b[0m\u001b[0mn\u001b[0m\u001b[0;34m)\u001b[0m\u001b[0;34m:\u001b[0m\u001b[0;34m\u001b[0m\u001b[0m\n\u001b[0;32m---> 18\u001b[0;31m         \u001b[0mgh\u001b[0m\u001b[0;34m=\u001b[0m\u001b[0mpmag\u001b[0m\u001b[0;34m.\u001b[0m\u001b[0mmktk03\u001b[0m\u001b[0;34m(\u001b[0m\u001b[0;36m8\u001b[0m\u001b[0;34m,\u001b[0m\u001b[0mk\u001b[0m\u001b[0;34m,\u001b[0m\u001b[0mG2\u001b[0m\u001b[0;34m,\u001b[0m\u001b[0mG3\u001b[0m\u001b[0;34m)\u001b[0m \u001b[0;31m# terms and random seed\u001b[0m\u001b[0;34m\u001b[0m\u001b[0m\n\u001b[0m\u001b[1;32m     19\u001b[0m         \u001b[0mlong\u001b[0m\u001b[0;34m=\u001b[0m\u001b[0mrandom\u001b[0m\u001b[0;34m.\u001b[0m\u001b[0mrandint\u001b[0m\u001b[0;34m(\u001b[0m\u001b[0;36m0\u001b[0m\u001b[0;34m,\u001b[0m\u001b[0;36m360\u001b[0m\u001b[0;34m)\u001b[0m \u001b[0;31m# get a random longitude, between 0 and 359\u001b[0m\u001b[0;34m\u001b[0m\u001b[0m\n\u001b[1;32m     20\u001b[0m         \u001b[0mvec\u001b[0m\u001b[0;34m=\u001b[0m \u001b[0mpmag\u001b[0m\u001b[0;34m.\u001b[0m\u001b[0mgetvec\u001b[0m\u001b[0;34m(\u001b[0m\u001b[0mgh\u001b[0m\u001b[0;34m,\u001b[0m\u001b[0mlat\u001b[0m\u001b[0;34m,\u001b[0m\u001b[0mlong\u001b[0m\u001b[0;34m)\u001b[0m  \u001b[0;31m# send field model and lat to getvec\u001b[0m\u001b[0;34m\u001b[0m\u001b[0m\n",
      "\u001b[0;32m/Users/Laurentia/PmagPy/pmag.py\u001b[0m in \u001b[0;36mmktk03\u001b[0;34m(terms, seed, G2, G3)\u001b[0m\n\u001b[1;32m   6116\u001b[0m             \u001b[0;32mif\u001b[0m \u001b[0ml\u001b[0m\u001b[0;34m==\u001b[0m\u001b[0;36m2\u001b[0m \u001b[0;32mand\u001b[0m \u001b[0mm\u001b[0m\u001b[0;34m==\u001b[0m\u001b[0;36m0\u001b[0m\u001b[0;34m:\u001b[0m\u001b[0mOFF\u001b[0m\u001b[0;34m=\u001b[0m\u001b[0mg20\u001b[0m\u001b[0;34m\u001b[0m\u001b[0m\n\u001b[1;32m   6117\u001b[0m             \u001b[0;32mif\u001b[0m \u001b[0ml\u001b[0m\u001b[0;34m==\u001b[0m\u001b[0;36m3\u001b[0m \u001b[0;32mand\u001b[0m \u001b[0mm\u001b[0m\u001b[0;34m==\u001b[0m\u001b[0;36m0\u001b[0m\u001b[0;34m:\u001b[0m\u001b[0mOFF\u001b[0m\u001b[0;34m=\u001b[0m\u001b[0mg30\u001b[0m\u001b[0;34m\u001b[0m\u001b[0m\n\u001b[0;32m-> 6118\u001b[0;31m             \u001b[0ms\u001b[0m\u001b[0;34m=\u001b[0m\u001b[0ms_l\u001b[0m\u001b[0;34m(\u001b[0m\u001b[0ml\u001b[0m\u001b[0;34m,\u001b[0m\u001b[0malpha\u001b[0m\u001b[0;34m)\u001b[0m\u001b[0;34m\u001b[0m\u001b[0m\n\u001b[0m\u001b[1;32m   6119\u001b[0m             \u001b[0mj\u001b[0m\u001b[0;34m=\u001b[0m\u001b[0;34m(\u001b[0m\u001b[0ml\u001b[0m\u001b[0;34m-\u001b[0m\u001b[0mm\u001b[0m\u001b[0;34m)\u001b[0m\u001b[0;34m%\u001b[0m\u001b[0;36m2\u001b[0m\u001b[0;34m\u001b[0m\u001b[0m\n\u001b[1;32m   6120\u001b[0m             \u001b[0;32mif\u001b[0m \u001b[0mj\u001b[0m\u001b[0;34m==\u001b[0m\u001b[0;36m1\u001b[0m\u001b[0;34m:\u001b[0m\u001b[0;34m\u001b[0m\u001b[0m\n",
      "\u001b[0;32m/Users/Laurentia/PmagPy/pmag.py\u001b[0m in \u001b[0;36ms_l\u001b[0;34m(l, alpha)\u001b[0m\n\u001b[1;32m   6086\u001b[0m     \u001b[0ma2\u001b[0m\u001b[0;34m=\u001b[0m\u001b[0malpha\u001b[0m\u001b[0;34m**\u001b[0m\u001b[0;36m2\u001b[0m\u001b[0;34m\u001b[0m\u001b[0m\n\u001b[1;32m   6087\u001b[0m     \u001b[0mc_a\u001b[0m\u001b[0;34m=\u001b[0m\u001b[0;36m0.547\u001b[0m\u001b[0;34m\u001b[0m\u001b[0m\n\u001b[0;32m-> 6088\u001b[0;31m     \u001b[0ms_l\u001b[0m\u001b[0;34m=\u001b[0m\u001b[0mnumpy\u001b[0m\u001b[0;34m.\u001b[0m\u001b[0msqrt\u001b[0m\u001b[0;34m(\u001b[0m\u001b[0;34m(\u001b[0m\u001b[0;34m(\u001b[0m\u001b[0mc_a\u001b[0m\u001b[0;34m**\u001b[0m\u001b[0;34m(\u001b[0m\u001b[0;36m2.\u001b[0m\u001b[0;34m*\u001b[0m\u001b[0ml\u001b[0m\u001b[0;34m)\u001b[0m\u001b[0;34m)\u001b[0m\u001b[0;34m*\u001b[0m\u001b[0ma2\u001b[0m\u001b[0;34m)\u001b[0m\u001b[0;34m/\u001b[0m\u001b[0;34m(\u001b[0m\u001b[0;34m(\u001b[0m\u001b[0ml\u001b[0m\u001b[0;34m+\u001b[0m\u001b[0;36m1.\u001b[0m\u001b[0;34m)\u001b[0m\u001b[0;34m*\u001b[0m\u001b[0;34m(\u001b[0m\u001b[0;36m2.\u001b[0m\u001b[0;34m*\u001b[0m\u001b[0ml\u001b[0m\u001b[0;34m+\u001b[0m\u001b[0;36m1.\u001b[0m\u001b[0;34m)\u001b[0m\u001b[0;34m)\u001b[0m\u001b[0;34m)\u001b[0m\u001b[0;34m\u001b[0m\u001b[0m\n\u001b[0m\u001b[1;32m   6089\u001b[0m     \u001b[0;32mreturn\u001b[0m \u001b[0ms_l\u001b[0m\u001b[0;34m\u001b[0m\u001b[0m\n\u001b[1;32m   6090\u001b[0m \u001b[0;31m#\u001b[0m\u001b[0;34m\u001b[0m\u001b[0;34m\u001b[0m\u001b[0m\n",
      "\u001b[0;31mKeyboardInterrupt\u001b[0m: "
     ]
    }
   ],
   "source": [
    "elongation_GAD = []\n",
    "inclination_GAD = []\n",
    "for latitude in range(0,90,2):\n",
    "    data = tk03(200000,dec=0,lat=latitude,G3=0)\n",
    "    elong = elong_calc(data)\n",
    "    rad=np.pi/180.\n",
    "    inc=np.arctan(2*np.tan(latitude*rad))/rad\n",
    "    elongation_GAD.append(elong) \n",
    "    inclination_GAD.append(inc)"
   ]
  },
  {
   "cell_type": "code",
   "execution_count": null,
   "metadata": {
    "collapsed": false
   },
   "outputs": [],
   "source": [
    "print elongation_GAD"
   ]
  },
  {
   "cell_type": "code",
   "execution_count": null,
   "metadata": {
    "collapsed": false
   },
   "outputs": [],
   "source": [
    "plt.plot(inclination_GAD,elongation_GAD,'k.-')"
   ]
  },
  {
   "cell_type": "code",
   "execution_count": 8,
   "metadata": {
    "collapsed": false
   },
   "outputs": [],
   "source": [
    "elongation_G3_20 = []\n",
    "inclination_G3_20 = []\n",
    "for latitude in range(0,90,2):\n",
    "    data = tk03(2000,dec=0,lat=latitude,G3=.2)\n",
    "    elong = elong_calc(data)\n",
    "    rad=np.pi/180.\n",
    "    inc=np.arctan(2*np.tan(latitude*rad))/rad\n",
    "    elongation_G3_20.append(elong) \n",
    "    inclination_G3_20.append(inc)"
   ]
  },
  {
   "cell_type": "code",
   "execution_count": 9,
   "metadata": {
    "collapsed": false
   },
   "outputs": [
    {
     "data": {
      "text/plain": [
       "[<matplotlib.lines.Line2D at 0x110e9bad0>]"
      ]
     },
     "execution_count": 9,
     "metadata": {},
     "output_type": "execute_result"
    },
    {
     "data": {
      "image/png": "[encoded data removed]",
      "text/plain": [
       "<matplotlib.figure.Figure at 0x10f9d3c90>"
      ]
     },
     "metadata": {},
     "output_type": "display_data"
    }
   ],
   "source": [
    "plt.plot(inclination_G3_20,elongation_G3_20,'k.-')"
   ]
  },
  {
   "cell_type": "code",
   "execution_count": 15,
   "metadata": {
    "collapsed": true
   },
   "outputs": [],
   "source": [
    "elongation_G2_10 = []\n",
    "inclination_G2_10 = []\n",
    "for latitude in range(0,90,2):\n",
    "    data = tk03(2000,dec=0,lat=latitude,G2=10)\n",
    "    elong = elong_calc(data)\n",
    "    rad=np.pi/180.\n",
    "    inc=np.arctan(2*np.tan(latitude*rad))/rad\n",
    "    elongation_G2_10.append(elong) \n",
    "    inclination_G2_10.append(inc)"
   ]
  },
  {
   "cell_type": "code",
   "execution_count": 16,
   "metadata": {
    "collapsed": false
   },
   "outputs": [
    {
     "data": {
      "text/plain": [
       "[<matplotlib.lines.Line2D at 0x1157f2290>]"
      ]
     },
     "execution_count": 16,
     "metadata": {},
     "output_type": "execute_result"
    },
    {
     "data": {
      "image/png": "[encoded data removed]",
      "text/plain": [
       "<matplotlib.figure.Figure at 0x116d68450>"
      ]
     },
     "metadata": {},
     "output_type": "display_data"
    }
   ],
   "source": [
    "plt.plot(inclination_G2_10,elongation_G2_10,'k.-')"
   ]
  },
  {
   "cell_type": "code",
   "execution_count": null,
   "metadata": {
    "collapsed": true
   },
   "outputs": [],
   "source": []
  }
 ],
 "metadata": {
  "kernelspec": {
   "display_name": "Python 2",
   "language": "python",
   "name": "python2"
  },
  "language_info": {
   "codemirror_mode": {
    "name": "ipython",
    "version": 2
   },
   "file_extension": ".py",
   "mimetype": "text/x-python",
   "name": "python",
   "nbconvert_exporter": "python",
   "pygments_lexer": "ipython2",
   "version": "2.7.9"
  }
 },
 "nbformat": 4,
 "nbformat_minor": 0
}
