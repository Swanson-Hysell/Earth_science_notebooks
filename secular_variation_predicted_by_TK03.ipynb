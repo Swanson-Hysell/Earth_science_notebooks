{
 "cells": [
  {
   "cell_type": "markdown",
   "metadata": {},
   "source": [
    "#Angular deviation of VGPs from north through secular variation"
   ]
  },
  {
   "cell_type": "code",
   "execution_count": 1,
   "metadata": {
    "collapsed": true
   },
   "outputs": [],
   "source": [
    "import sys\n",
    "#change to match where the PmagPy folder is on your computer\n",
    "sys.path.insert(0, '/Users/Laurentia/PmagPy')\n",
    "import pmag,pmagplotlib,ipmag # import PmagPy functions\n",
    "\n",
    "import pandas as pd\n",
    "import numpy as np\n",
    "import matplotlib.pyplot as plt\n",
    "import seaborn as sns\n",
    "\n",
    "%matplotlib inline"
   ]
  },
  {
   "cell_type": "markdown",
   "metadata": {},
   "source": [
    "Distance from the Slate Islands to the 438 Ma Rose Hill pole can be calculated (colatitude) and used to determine the paleolatitude of the Slate Islands as constrained by the Rose Hill pole."
   ]
  },
  {
   "cell_type": "code",
   "execution_count": 2,
   "metadata": {
    "collapsed": false
   },
   "outputs": [
    {
     "name": "stdout",
     "output_type": "stream",
     "text": [
      "15.3407768768\n"
     ]
    }
   ],
   "source": [
    "Rose_Hill_Plat = -19.1 \n",
    "Rose_Hill_Plong = 308.3\n",
    "Rose_Hill = (Rose_Hill_Plong, Rose_Hill_Plat)\n",
    "\n",
    "Slate_Lat = 48.6\n",
    "Slate_Long = -87.0\n",
    "Slate = (Slate_Long, Slate_Lat)\n",
    "\n",
    "plat = 90 - pmag.angle(Rose_Hill, Slate)\n",
    "print plat[0]"
   ]
  },
  {
   "cell_type": "markdown",
   "metadata": {},
   "source": [
    "The statistical secular variation model TK03 can be used to simulate secular variation with random draws being taken from the model. The function is set up to return directions so they are then recalculated as poles (this is silly as poles good be calculated directly and should be fixed in the future)."
   ]
  },
  {
   "cell_type": "code",
   "execution_count": 4,
   "metadata": {
    "collapsed": false
   },
   "outputs": [
    {
     "data": {
      "text/html": [
       "<div>\n",
       "<table border=\"1\" class=\"dataframe\">\n",
       "  <thead>\n",
       "    <tr style=\"text-align: right;\">\n",
       "      <th></th>\n",
       "      <th>dec_tc</th>\n",
       "      <th>inc_tc</th>\n",
       "      <th>int</th>\n",
       "      <th>site_lat</th>\n",
       "      <th>site_lon</th>\n",
       "      <th>paleolatitude</th>\n",
       "      <th>vgp_lat</th>\n",
       "      <th>vgp_lon</th>\n",
       "      <th>vgp_lat_rev</th>\n",
       "      <th>vgp_lon_rev</th>\n",
       "    </tr>\n",
       "  </thead>\n",
       "  <tbody>\n",
       "    <tr>\n",
       "      <th>0</th>\n",
       "      <td>359.102545</td>\n",
       "      <td>-7.360665</td>\n",
       "      <td>20383.249784</td>\n",
       "      <td>0</td>\n",
       "      <td>0</td>\n",
       "      <td>-3.695581</td>\n",
       "      <td>86.197156</td>\n",
       "      <td>193.631023</td>\n",
       "      <td>-86.197156</td>\n",
       "      <td>13.631023</td>\n",
       "    </tr>\n",
       "    <tr>\n",
       "      <th>1</th>\n",
       "      <td>358.867437</td>\n",
       "      <td>-5.725660</td>\n",
       "      <td>20373.790827</td>\n",
       "      <td>0</td>\n",
       "      <td>0</td>\n",
       "      <td>-2.869995</td>\n",
       "      <td>86.914794</td>\n",
       "      <td>201.517640</td>\n",
       "      <td>-86.914794</td>\n",
       "      <td>21.517640</td>\n",
       "    </tr>\n",
       "    <tr>\n",
       "      <th>2</th>\n",
       "      <td>7.467135</td>\n",
       "      <td>12.971863</td>\n",
       "      <td>9841.611086</td>\n",
       "      <td>0</td>\n",
       "      <td>0</td>\n",
       "      <td>6.570120</td>\n",
       "      <td>80.066234</td>\n",
       "      <td>48.450864</td>\n",
       "      <td>-80.066234</td>\n",
       "      <td>228.450864</td>\n",
       "    </tr>\n",
       "    <tr>\n",
       "      <th>3</th>\n",
       "      <td>2.778490</td>\n",
       "      <td>20.451887</td>\n",
       "      <td>23462.081616</td>\n",
       "      <td>0</td>\n",
       "      <td>0</td>\n",
       "      <td>10.562298</td>\n",
       "      <td>79.082377</td>\n",
       "      <td>14.572539</td>\n",
       "      <td>-79.082377</td>\n",
       "      <td>194.572539</td>\n",
       "    </tr>\n",
       "    <tr>\n",
       "      <th>4</th>\n",
       "      <td>2.904132</td>\n",
       "      <td>5.199814</td>\n",
       "      <td>24295.287034</td>\n",
       "      <td>0</td>\n",
       "      <td>0</td>\n",
       "      <td>2.605271</td>\n",
       "      <td>86.099281</td>\n",
       "      <td>48.073168</td>\n",
       "      <td>-86.099281</td>\n",
       "      <td>228.073168</td>\n",
       "    </tr>\n",
       "  </tbody>\n",
       "</table>\n",
       "</div>"
      ],
      "text/plain": [
       "       dec_tc     inc_tc           int  site_lat  site_lon  paleolatitude  \\\n",
       "0  359.102545  -7.360665  20383.249784         0         0      -3.695581   \n",
       "1  358.867437  -5.725660  20373.790827         0         0      -2.869995   \n",
       "2    7.467135  12.971863   9841.611086         0         0       6.570120   \n",
       "3    2.778490  20.451887  23462.081616         0         0      10.562298   \n",
       "4    2.904132   5.199814  24295.287034         0         0       2.605271   \n",
       "\n",
       "     vgp_lat     vgp_lon  vgp_lat_rev  vgp_lon_rev  \n",
       "0  86.197156  193.631023   -86.197156    13.631023  \n",
       "1  86.914794  201.517640   -86.914794    21.517640  \n",
       "2  80.066234   48.450864   -80.066234   228.450864  \n",
       "3  79.082377   14.572539   -79.082377   194.572539  \n",
       "4  86.099281   48.073168   -86.099281   228.073168  "
      ]
     },
     "execution_count": 4,
     "metadata": {},
     "output_type": "execute_result"
    }
   ],
   "source": [
    "VGPs = ipmag.tk03(n=100,lat=0) #set at 100,000 this takes a long time to run\n",
    "VGP_dataframe = pd.DataFrame(VGPs,columns=['dec_tc','inc_tc','int'])\n",
    "VGP_dataframe['site_lat'] = pd.Series(np.random.uniform(0,0,size=len(VGPs)))\n",
    "VGP_dataframe['site_lon'] = pd.Series(np.random.uniform(0,0,size=len(VGPs)))\n",
    "  \n",
    "ipmag.vgp_calc(VGP_dataframe)    \n",
    "\n",
    "VGP_dataframe.head()"
   ]
  },
  {
   "cell_type": "code",
   "execution_count": 5,
   "metadata": {
    "collapsed": false
   },
   "outputs": [
    {
     "data": {
      "image/png": "[encoded data removed]",
      "text/plain": [
       "<matplotlib.figure.Figure at 0x112fdf2d0>"
      ]
     },
     "metadata": {},
     "output_type": "display_data"
    }
   ],
   "source": [
    "greater_10 = []\n",
    "greater_20 = []\n",
    "greater_30 = []\n",
    "greater_40 = []\n",
    "greater_50 = []\n",
    "angles = []\n",
    "for n in range(len(VGP_dataframe)):\n",
    "    true_north = (0,90)\n",
    "    vgp = (VGP_dataframe['vgp_lon'][n],VGP_dataframe['vgp_lat'][n])\n",
    "    angle = pmag.angle(true_north,vgp)\n",
    "    angles.append(angle[0])\n",
    "    if angle > 10:\n",
    "        greater_10.append(angle[0])\n",
    "    if angle > 20:\n",
    "        greater_20.append(angle[0])\n",
    "    if angle > 30:\n",
    "        greater_30.append(angle[0])\n",
    "    if angle > 40:\n",
    "        greater_40.append(angle[0])\n",
    "    if angle > 50:\n",
    "        greater_50.append(angle[0])\n",
    "    \n",
    "plt.hist(angles, bins=50)\n",
    "plt.xlim(0,90)\n",
    "plt.vlines(50.6,0,5000,linestyles='dotted')\n",
    "plt.xlabel('angle between TK03.GAD VGP and geographic north')\n",
    "plt.savefig('SV_histogram.pdf')\n",
    "plt.show()"
   ]
  },
  {
   "cell_type": "code",
   "execution_count": 6,
   "metadata": {
    "collapsed": false
   },
   "outputs": [
    {
     "name": "stdout",
     "output_type": "stream",
     "text": [
      "Percent of VGPS with angular difference from mean greater than 10º\n",
      "41.0\n",
      "Percent of VGPS with angular difference from mean greater than 20º\n",
      "6.0\n",
      "Percent of VGPS with angular difference from mean greater than 30º\n",
      "3.0\n",
      "Percent of VGPS with angular difference from mean greater than 40º\n",
      "2.0\n",
      "Percent of VGPS with angular difference from mean greater than 50º\n",
      "2.0\n"
     ]
    }
   ],
   "source": [
    "print \"Percent of VGPS with angular difference from mean greater than 10º\"\n",
    "print float(len(greater_10))/float(len(angles))*100.0\n",
    "print \"Percent of VGPS with angular difference from mean greater than 20º\"\n",
    "print float(len(greater_20))/float(len(angles))*100.0\n",
    "print \"Percent of VGPS with angular difference from mean greater than 30º\"\n",
    "print float(len(greater_30))/float(len(angles))*100.0\n",
    "print \"Percent of VGPS with angular difference from mean greater than 40º\"\n",
    "print float(len(greater_40))/float(len(angles))*100.0\n",
    "print \"Percent of VGPS with angular difference from mean greater than 50º\"\n",
    "print float(len(greater_50))/float(len(angles))*100.0"
   ]
  },
  {
   "cell_type": "code",
   "execution_count": 8,
   "metadata": {
    "collapsed": false
   },
   "outputs": [
    {
     "data": {
      "text/plain": [
       "array([  3.51470897e+02,  -2.85142561e+00,   2.37672147e+04])"
      ]
     },
     "execution_count": 8,
     "metadata": {},
     "output_type": "execute_result"
    }
   ],
   "source": [
    "gauss = pmag.mktk03(8,1,0,0)\n",
    "pmag.getvec(gauss,0,0)"
   ]
  },
  {
   "cell_type": "code",
   "execution_count": null,
   "metadata": {
    "collapsed": true
   },
   "outputs": [],
   "source": []
  }
 ],
 "metadata": {
  "kernelspec": {
   "display_name": "Python 2",
   "language": "python",
   "name": "python2"
  },
  "language_info": {
   "codemirror_mode": {
    "name": "ipython",
    "version": 2
   },
   "file_extension": ".py",
   "mimetype": "text/x-python",
   "name": "python",
   "nbconvert_exporter": "python",
   "pygments_lexer": "ipython2",
   "version": "2.7.9"
  }
 },
 "nbformat": 4,
 "nbformat_minor": 0
}
