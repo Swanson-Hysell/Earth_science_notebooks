{
 "cells": [
  {
   "cell_type": "code",
   "execution_count": 1,
   "metadata": {
    "collapsed": true
   },
   "outputs": [],
   "source": [
    "import sys\n",
    "#change to match where the PmagPy folder is on your computer\n",
    "sys.path.insert(0, '/Users/Laurentia/PmagPy')\n",
    "import pmag,pmagplotlib,ipmag # import PmagPy functions\n",
    "\n",
    "import pmag\n",
    "import random\n",
    "import pandas as pd\n",
    "import numpy as np\n",
    "import matplotlib.pyplot as plt\n",
    "%matplotlib inline"
   ]
  },
  {
   "cell_type": "code",
   "execution_count": 12,
   "metadata": {
    "collapsed": true
   },
   "outputs": [],
   "source": [
    "def tk03(n=100,dec=0,lat=0,rev='no',G2=0,G3=0):\n",
    "    \"\"\"\n",
    "    generates set of vectors drawn from the TK03.gad model of \n",
    "    secular variation (Tauxe and Kent, 2004) at given latitude and rotated \n",
    "    about a vertical axis by the given declination \n",
    "\n",
    "    Arguments\n",
    "    ----------\n",
    "    n number of vectors to determine (default is 100)\n",
    "    dec mean declination of data set (default is 0)\n",
    "    lat latitude at which secular variation is simulated (default is 0)\n",
    "    rev if reversals are to be included this should be 'yes' (default is 'no')\n",
    "    G2 specify average g_2^0 fraction (default is 0)\n",
    "    G3 specify average g_3^0 fraction (default is 0)\n",
    "    \"\"\"\n",
    "    tk_03_output=[]\n",
    "    for k in range(n): \n",
    "        gh=pmag.mktk03(8,k,G2,G3) # terms and random seed\n",
    "        #long=random.randint(0,360) # get a random longitude, between 0 and 359\n",
    "        vec= pmag.getvec(gh,lat,0)  # send field model and lat to getvec\n",
    "        vec[0]+=dec\n",
    "        if vec[0]>=360.:\n",
    "            vec[0]-=360.\n",
    "        if k%2==0 and rev=='yes':\n",
    "           vec[0]+=180.\n",
    "           vec[1]=-vec[1]\n",
    "        tk_03_output.append([vec[0],vec[1],vec[2]])    \n",
    "    return tk_03_output"
   ]
  },
  {
   "cell_type": "code",
   "execution_count": 13,
   "metadata": {
    "collapsed": false
   },
   "outputs": [
    {
     "data": {
      "image/png": "[encoded data removed]",
      "text/plain": [
       "<matplotlib.figure.Figure at 0x1107b26d0>"
      ]
     },
     "metadata": {},
     "output_type": "display_data"
    }
   ],
   "source": [
    "elongation = []\n",
    "inclination = []\n",
    "\n",
    "for inc in range(0,90,10):\n",
    "    latitude = ipmag.lat_from_inc(inc)\n",
    "    TK03_array = tk03(n=1000,lat=latitude)\n",
    "    ppars = pmag.doprinc(TK03_array)\n",
    "    elong = ppars['tau2']/ppars['tau3']\n",
    "    elongation.append(elong)\n",
    "    inclination.append(inc)\n",
    "    \n",
    "plt.plot(inclination, elongation)\n",
    "plt.xlabel('inclination')\n",
    "plt.ylabel('elongation')\n",
    "plt.show()"
   ]
  },
  {
   "cell_type": "code",
   "execution_count": null,
   "metadata": {
    "collapsed": true
   },
   "outputs": [],
   "source": []
  }
 ],
 "metadata": {
  "kernelspec": {
   "display_name": "Python 2",
   "language": "python",
   "name": "python2"
  },
  "language_info": {
   "codemirror_mode": {
    "name": "ipython",
    "version": 2
   },
   "file_extension": ".py",
   "mimetype": "text/x-python",
   "name": "python",
   "nbconvert_exporter": "python",
   "pygments_lexer": "ipython2",
   "version": "2.7.9"
  }
 },
 "nbformat": 4,
 "nbformat_minor": 0
}
