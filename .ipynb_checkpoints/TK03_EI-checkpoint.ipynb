{
 "cells": [
  {
   "cell_type": "code",
   "execution_count": 1,
   "metadata": {
    "collapsed": true
   },
   "outputs": [],
   "source": [
    "def elong_calc(DIblock):\n",
    "    #convert to cartesian\n",
    "    DI_cart = pmag.dir2cart(DIblock)\n",
    "    #create T matrix\n",
    "    #Could use the function from pmag: pmag.Tmatrix(Umk_cart_cart),...\n",
    "    #...however I don't know what the input should be, so did manually...\n",
    "    #...according to Tanaka (1999)\n",
    "    T_matrix = [[0.,0.,0.],[0.,0.,0.],[0.,0.,0.]]\n",
    "    T_matrix[0][0] = np.sum((DI_cart[:,0]**2))\n",
    "    T_matrix[0][1] = np.sum((DI_cart[:,0]*DI_cart[:,1]))\n",
    "    T_matrix[1][0] = np.sum((DI_cart[:,0]*DI_cart[:,1]))\n",
    "    T_matrix[1][1] = np.sum((DI_cart[:,1]**2))\n",
    "    T_matrix[0][2] = np.sum((DI_cart[:,0]*DI_cart[:,2]))\n",
    "    T_matrix[2][0] = np.sum((DI_cart[:,0]*DI_cart[:,2]))\n",
    "    T_matrix[1][2] = np.sum((DI_cart[:,1]*DI_cart[:,2]))\n",
    "    T_matrix[2][1] = np.sum((DI_cart[:,1]*DI_cart[:,2]))\n",
    "    T_matrix[2][2] = np.sum((DI_cart[:,2]**2))\n",
    "    #calculate eigenvalues and eigenvectors for the T matrix\n",
    "    eigvalues = pmag.tauV(T_matrix)\n",
    "    t1 = eigvalues[0][0]\n",
    "    t2 = eigvalues[0][1]\n",
    "    t3 = eigvalues[0][2]\n",
    "    elong = t2/t3\n",
    "    return elong"
   ]
  },
  {
   "cell_type": "code",
   "execution_count": 3,
   "metadata": {
    "collapsed": false
   },
   "outputs": [],
   "source": [
    "import sys\n",
    "#change to match where the PmagPy folder is on your computer\n",
    "sys.path.insert(0, '/Users/Laurentia/PmagPy')\n",
    "import pmag,pmagplotlib,ipmag # import PmagPy functions\n",
    "\n",
    "import pmag\n",
    "import random\n",
    "import numpy as np\n",
    "import matplotlib.pyplot as plt\n",
    "%matplotlib inline"
   ]
  },
  {
   "cell_type": "code",
   "execution_count": 4,
   "metadata": {
    "collapsed": true
   },
   "outputs": [],
   "source": [
    "def tk03(n=100,dec=0,lat=0,rev='no',G2=0,G3=0):\n",
    "    \"\"\"\n",
    "    generates set of vectors drawn from the TK03.gad model of \n",
    "    secular variation (Tauxe and Kent, 2004) at given latitude and rotated \n",
    "    about a vertical axis by the given declination \n",
    "\n",
    "    Arguments\n",
    "    ----------\n",
    "    n number of vectors to determine (default is 100)\n",
    "    dec mean declination of data set (default is 0)\n",
    "    lat latitude at which secular variation is simulated (default is 0)\n",
    "    rev if reversals are to be included this should be 'yes' (default is 'no')\n",
    "    G2 specify average g_2^0 fraction (default is 0)\n",
    "    G3 specify average g_3^0 fraction (default is 0)\n",
    "    \"\"\"\n",
    "    tk_03_output=[]\n",
    "    for k in range(n): \n",
    "        gh=pmag.mktk03(8,k,G2,G3) # terms and random seed\n",
    "        long=random.randint(0,360) # get a random longitude, between 0 and 359\n",
    "        vec= pmag.getvec(gh,lat,long)  # send field model and lat to getvec\n",
    "        vec[0]+=dec\n",
    "        if vec[0]>=360.:\n",
    "            vec[0]-=360.\n",
    "        if k%2==0 and rev=='yes':\n",
    "           vec[0]+=180.\n",
    "           vec[1]=-vec[1]\n",
    "        tk_03_output.append([vec[0],vec[1],vec[2]])    \n",
    "    return tk_03_output"
   ]
  },
  {
   "cell_type": "code",
   "execution_count": null,
   "metadata": {
    "collapsed": false
   },
   "outputs": [],
   "source": [
    "elongation_G3_20 = []\n",
    "inclination_G3_20 = []\n",
    "for latitude in range(0,90,1):\n",
    "    data = tk03(1000,dec=0,lat=latitude,G3=20)\n",
    "    elong = elong_calc(data)\n",
    "    rad=np.pi/180.\n",
    "    inc=np.arctan(2*np.tan(latitude*rad))/rad\n",
    "    elongation_G3_20.append(elong) \n",
    "    inclination_G3_20.append(inc)"
   ]
  },
  {
   "cell_type": "code",
   "execution_count": 20,
   "metadata": {
    "collapsed": false
   },
   "outputs": [
    {
     "name": "stdout",
     "output_type": "stream",
     "text": [
      "[3.599617203873327, 3.6326263590322081, 3.5707087536179034, 3.5215015339594244, 3.4775286902151032, 3.4220557610149744, 3.3643494547272805, 3.2609398993627905, 3.1836086119994591, 3.1031911193311172, 3.0206245974247379, 3.0429160187438251, 2.9698955871458681, 2.9183672752340311, 2.9302747180984947, 2.9637342193240501, 2.9298845053161195, 2.9802163867829905, 3.0683784708153032, 3.1078712335936234, 3.1881823869157948, 3.278582791424197, 3.4261023089282032, 3.568488589567957, 3.7398958885333684, 3.9242419207673591, 4.1343311474993607, 4.2459070202195797, 4.4902997375952953, 4.8127595233237006, 5.0439195131122778, 5.4215637507807788, 5.6751133766887021, 5.9637993924403467, 6.4129264345082158, 6.6456059499086466, 6.9960781714843092, 7.3235382565817959, 7.740147648979228, 7.9889848590692321, 8.4212695953505872, 8.6763502385241047, 8.9511750551237057, 9.066252372842893, 9.3556387020248195, 9.4748749653158946, 9.5541927392483039, 9.4824315013711917, 9.3865454428707729, 9.2035002886156754, 9.0021331278292376, 8.77962623035104, 8.4506284279243591, 8.025166853489818, 7.7596925228065308, 7.468821520536121, 6.9997935143500056, 6.6167897015331256, 6.3137975226415541, 5.9139706575273818, 5.5784455634444567, 5.1503152787696056, 4.8228488917517858, 4.4397940311089741, 4.144969453230968, 3.9025708170786593, 3.6043524851265638, 3.3956502720700872, 3.1186477144931222, 2.8985938829784588, 2.6890081515885651, 2.4844254629183022, 2.3332927288667875, 2.1707990917798674, 2.021353976928808, 1.9062653269274383, 1.7618113807192801, 1.6484335667446188, 1.580922678375712, 1.4554968932082863, 1.3899912824939844, 1.2809228684937108, 1.2516787074405653, 1.1868965989840501, 1.144094419563521, 1.0963975376027728, 1.0621888848982004, 1.035737903667459, 1.0154493730245482, 1.0095813190867662]\n"
     ]
    }
   ],
   "source": [
    "print elongation_G3_20"
   ]
  },
  {
   "cell_type": "code",
   "execution_count": 23,
   "metadata": {
    "collapsed": false
   },
   "outputs": [
    {
     "data": {
      "text/plain": [
       "[<matplotlib.lines.Line2D at 0x10e1ebad0>]"
      ]
     },
     "execution_count": 23,
     "metadata": {},
     "output_type": "execute_result"
    },
    {
     "data": {
      "image/png": "[encoded data removed]",
      "text/plain": [
       "<matplotlib.figure.Figure at 0x10ff883d0>"
      ]
     },
     "metadata": {},
     "output_type": "display_data"
    }
   ],
   "source": [
    "plt.plot(inclination_G3_20,elongation_G3_20,'k.-')"
   ]
  },
  {
   "cell_type": "code",
   "execution_count": 10,
   "metadata": {
    "collapsed": true
   },
   "outputs": [],
   "source": [
    "elongation = []\n",
    "inclination = []\n",
    "for latitude in range(0,90,10):\n",
    "    data = tk03(500,dec=0,lat=latitude,G3=20)\n",
    "    elong = elong_calc(data)\n",
    "    rad=np.pi/180.\n",
    "    inc=np.arctan(2*np.tan(latitude*rad))/rad\n",
    "    elongation.append(elong) \n",
    "    inclination.append(inc)"
   ]
  },
  {
   "cell_type": "code",
   "execution_count": 11,
   "metadata": {
    "collapsed": false
   },
   "outputs": [
    {
     "data": {
      "text/plain": [
       "[<matplotlib.lines.Line2D at 0x10e964690>]"
      ]
     },
     "execution_count": 11,
     "metadata": {},
     "output_type": "execute_result"
    },
    {
     "data": {
      "image/png": "[encoded data removed]",
      "text/plain": [
       "<matplotlib.figure.Figure at 0x10e5a3850>"
      ]
     },
     "metadata": {},
     "output_type": "display_data"
    }
   ],
   "source": [
    "plt.plot(inclination,elongation,'k.-')"
   ]
  },
  {
   "cell_type": "code",
   "execution_count": null,
   "metadata": {
    "collapsed": true
   },
   "outputs": [],
   "source": []
  }
 ],
 "metadata": {
  "kernelspec": {
   "display_name": "Python 2",
   "language": "python",
   "name": "python2"
  },
  "language_info": {
   "codemirror_mode": {
    "name": "ipython",
    "version": 2
   },
   "file_extension": ".py",
   "mimetype": "text/x-python",
   "name": "python",
   "nbconvert_exporter": "python",
   "pygments_lexer": "ipython2",
   "version": "2.7.9"
  }
 },
 "nbformat": 4,
 "nbformat_minor": 0
}
