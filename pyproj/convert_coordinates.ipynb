{
 "cells": [
  {
   "cell_type": "markdown",
   "metadata": {},
   "source": [
    "North: 5394862.00 \n",
    "\n",
    "East: 334600.00\n",
    "\n",
    "UTM83-16\n",
    "\n",
    "This is EPSG:26916\n",
    "\n",
    "Want to convert to WGS84 lat/lon EPSG:4326"
   ]
  },
  {
   "cell_type": "code",
   "execution_count": 3,
   "metadata": {},
   "outputs": [],
   "source": [
    "from pyproj import Proj, transform"
   ]
  },
  {
   "cell_type": "code",
   "execution_count": 4,
   "metadata": {},
   "outputs": [
    {
     "name": "stdout",
     "output_type": "stream",
     "text": [
      "-89.24726893499906 48.6848689318691\n"
     ]
    }
   ],
   "source": [
    "inProj = Proj(init='epsg:26916')\n",
    "outProj = Proj(init='epsg:4326')\n",
    "x1,y1 = 334600,5394862\n",
    "lon,lat = transform(inProj,outProj,x1,y1)\n",
    "print(lon,lat)"
   ]
  },
  {
   "cell_type": "code",
   "execution_count": null,
   "metadata": {},
   "outputs": [],
   "source": []
  }
 ],
 "metadata": {
  "kernelspec": {
   "display_name": "Python 3",
   "language": "python",
   "name": "python3"
  },
  "language_info": {
   "codemirror_mode": {
    "name": "ipython",
    "version": 3
   },
   "file_extension": ".py",
   "mimetype": "text/x-python",
   "name": "python",
   "nbconvert_exporter": "python",
   "pygments_lexer": "ipython3",
   "version": "3.6.7"
  }
 },
 "nbformat": 4,
 "nbformat_minor": 2
}
